{
 "cells": [
  {
   "cell_type": "markdown",
   "id": "b9012c90",
   "metadata": {},
   "source": [
    "# 14. Write a python program to solve a quadratic equation of the form ax^2+bx+c=0. Where a, b and c are to be taken by user input. Handle the erroneous input, such as ‘a’ should not be equal to 0."
   ]
  },
  {
   "cell_type": "code",
   "execution_count": 2,
   "id": "8a4d50ee",
   "metadata": {},
   "outputs": [
    {
     "name": "stdout",
     "output_type": "stream",
     "text": [
      "Enter the coefficient of x^2 (a): 1\n",
      "Enter the coefficient of x (b): 5\n",
      "Enter the constant term (c): 6\n",
      "Two real roots: -2.0, -3.0\n"
     ]
    }
   ],
   "source": [
    "import math\n",
    "\n",
    "# Get user input for coefficients\n",
    "a = float(input(\"Enter the coefficient of x^2 (a): \"))\n",
    "b = float(input(\"Enter the coefficient of x (b): \"))\n",
    "c = float(input(\"Enter the constant term (c): \"))\n",
    "\n",
    "# Check if 'a' is non-zero\n",
    "if a == 0:\n",
    "    print(\"Error: 'a' cannot be zero\")\n",
    "else:\n",
    "    # Calculate the discriminant\n",
    "    disc = b**2 - 4*a*c\n",
    "\n",
    "    # Check if the discriminant is negative, zero or positive\n",
    "    if disc < 0:\n",
    "        print(\"No real roots\")\n",
    "    elif disc == 0:\n",
    "        root = -b / (2*a)\n",
    "        print(f\"One real root: {root}\")\n",
    "    else:\n",
    "        sqrt_disc = math.sqrt(disc)\n",
    "        root1 = (-b + sqrt_disc) / (2*a)\n",
    "        root2 = (-b - sqrt_disc) / (2*a)\n",
    "        print(f\"Two real roots: {root1}, {root2}\")\n"
   ]
  },
  {
   "cell_type": "markdown",
   "id": "42644562",
   "metadata": {},
   "source": [
    "# 15. Write a python program to find the sum of first ‘n’ natural numbers without using any loop. Ask users to input the value of ‘n’."
   ]
  },
  {
   "cell_type": "code",
   "execution_count": 3,
   "id": "a2a7e49b",
   "metadata": {},
   "outputs": [
    {
     "name": "stdout",
     "output_type": "stream",
     "text": [
      "Enter a positive integer: 5\n",
      "The sum of the first 5 natural numbers is 15\n"
     ]
    }
   ],
   "source": [
    "n = int(input(\"Enter a positive integer: \"))\n",
    "if n <= 0:\n",
    "    print(\"Error: n must be a positive integer\")\n",
    "else:\n",
    "    sum = n*(n+1)//2\n",
    "    print(\"The sum of the first\", n, \"natural numbers is\", sum)"
   ]
  },
  {
   "cell_type": "code",
   "execution_count": null,
   "id": "60d820e4",
   "metadata": {},
   "outputs": [],
   "source": []
  }
 ],
 "metadata": {
  "kernelspec": {
   "display_name": "Python 3 (ipykernel)",
   "language": "python",
   "name": "python3"
  },
  "language_info": {
   "codemirror_mode": {
    "name": "ipython",
    "version": 3
   },
   "file_extension": ".py",
   "mimetype": "text/x-python",
   "name": "python",
   "nbconvert_exporter": "python",
   "pygments_lexer": "ipython3",
   "version": "3.9.12"
  }
 },
 "nbformat": 4,
 "nbformat_minor": 5
}
