{
 "cells": [
  {
   "cell_type": "markdown",
   "id": "87b11fb8",
   "metadata": {},
   "source": [
    "# 11. Write a python program to find the factorial of a number"
   ]
  },
  {
   "cell_type": "code",
   "execution_count": 1,
   "id": "5a42705f",
   "metadata": {},
   "outputs": [
    {
     "name": "stdout",
     "output_type": "stream",
     "text": [
      "Enter a number: 5\n",
      "The factorial of 5 is 120\n"
     ]
    }
   ],
   "source": [
    "# Python program to find the factorial of a number provided by the user.\n",
    "\n",
    "# To take input from the user\n",
    "num = int(input(\"Enter a number: \"))\n",
    "\n",
    "factorial = 1\n",
    "\n",
    "# check if the number is negative, positive or zero\n",
    "if num < 0:\n",
    "   print(\"Sorry, factorial does not exist for negative numbers\")\n",
    "elif num == 0:\n",
    "   print(\"The factorial of 0 is 1\")\n",
    "else:\n",
    "   for i in range(1,num + 1):\n",
    "       factorial = factorial*i\n",
    "   print(\"The factorial of\",num,\"is\",factorial)"
   ]
  },
  {
   "cell_type": "markdown",
   "id": "8eebf354",
   "metadata": {},
   "source": [
    "# 12. Write a python program to find whether a number is prime or composite."
   ]
  },
  {
   "cell_type": "code",
   "execution_count": 3,
   "id": "004ebbab",
   "metadata": {},
   "outputs": [
    {
     "name": "stdout",
     "output_type": "stream",
     "text": [
      "Enter a number: 6\n",
      "6 is a composite number\n"
     ]
    }
   ],
   "source": [
    "num = int(input(\"Enter a number: \"))\n",
    "\n",
    "# A prime number is only divisible by 1 and itself.\n",
    "# We will check if the number is divisible by any number other than 1 and itself.\n",
    "if num > 1:\n",
    "    for i in range(2, num):\n",
    "        if num % i == 0:\n",
    "            print(num, \"is a composite number\")\n",
    "            break\n",
    "    else:\n",
    "        print(num, \"is a prime number\")\n",
    "\n",
    "# 1 is neither prime nor composite.\n",
    "elif num == 1:\n",
    "    print(\"1 is neither prime nor composite\")\n",
    "\n",
    "# Negative numbers and 0 are not prime.\n",
    "else:\n",
    "    print(num, \"is not a prime number\")\n"
   ]
  },
  {
   "cell_type": "markdown",
   "id": "0e4e6777",
   "metadata": {},
   "source": [
    "# 13. Write a python program to check whether a given string is palindrome or not."
   ]
  },
  {
   "cell_type": "code",
   "execution_count": 6,
   "id": "3e54ecbe",
   "metadata": {},
   "outputs": [
    {
     "name": "stdout",
     "output_type": "stream",
     "text": [
      "Enter a string: 151\n",
      "The string is a palindrome\n"
     ]
    }
   ],
   "source": [
    "string = input(\"Enter a string: \")\n",
    "\n",
    "# Reverse the string using slicing\n",
    "reverse_string = string[::-1]\n",
    "\n",
    "# Check if the reversed string is equal to the original string\n",
    "if string == reverse_string:\n",
    "    print(\"The string is a palindrome\")\n",
    "else:\n",
    "    print(\"The string is not a palindrome\")\n"
   ]
  },
  {
   "cell_type": "markdown",
   "id": "0c47d3b7",
   "metadata": {},
   "source": [
    "# 14. Write a Python program to get the third side of right-angled triangle from two given sides."
   ]
  },
  {
   "cell_type": "code",
   "execution_count": 7,
   "id": "ed1e232d",
   "metadata": {},
   "outputs": [
    {
     "name": "stdout",
     "output_type": "stream",
     "text": [
      "Enter the length of the first side: 3\n",
      "Enter the length of the second side: 4\n",
      "The length of the hypotenuse is: 5.0\n"
     ]
    }
   ],
   "source": [
    "import math\n",
    "\n",
    "side1 = float(input(\"Enter the length of the first side: \"))\n",
    "side2 = float(input(\"Enter the length of the second side: \"))\n",
    "\n",
    "# Calculate the length of the hypotenuse using the Pythagorean theorem\n",
    "hypotenuse = math.sqrt(side1**2 + side2**2)\n",
    "\n",
    "print(\"The length of the hypotenuse is:\", hypotenuse)\n"
   ]
  },
  {
   "cell_type": "markdown",
   "id": "8e58a3d9",
   "metadata": {},
   "source": [
    "# 15. Write a python program to print the frequency of each of the characters present in a given string"
   ]
  },
  {
   "cell_type": "code",
   "execution_count": 8,
   "id": "965a176a",
   "metadata": {},
   "outputs": [
    {
     "name": "stdout",
     "output_type": "stream",
     "text": [
      "Enter a string: HRITIK\n",
      "H : 1\n",
      "R : 1\n",
      "I : 2\n",
      "T : 1\n",
      "K : 1\n"
     ]
    }
   ],
   "source": [
    "string = input(\"Enter a string: \")\n",
    "\n",
    "# Create an empty dictionary to store the frequency of each character\n",
    "freq_dict = {}\n",
    "\n",
    "# Loop through each character in the string\n",
    "for char in string:\n",
    "    # If the character is already in the dictionary, increment its count\n",
    "    if char in freq_dict:\n",
    "        freq_dict[char] += 1\n",
    "    # Otherwise, add the character to the dictionary with a count of 1\n",
    "    else:\n",
    "        freq_dict[char] = 1\n",
    "\n",
    "# Print the frequency of each character\n",
    "for char, count in freq_dict.items():\n",
    "    print(char, \":\", count)\n"
   ]
  },
  {
   "cell_type": "code",
   "execution_count": null,
   "id": "73558241",
   "metadata": {},
   "outputs": [],
   "source": []
  }
 ],
 "metadata": {
  "kernelspec": {
   "display_name": "Python 3 (ipykernel)",
   "language": "python",
   "name": "python3"
  },
  "language_info": {
   "codemirror_mode": {
    "name": "ipython",
    "version": 3
   },
   "file_extension": ".py",
   "mimetype": "text/x-python",
   "name": "python",
   "nbconvert_exporter": "python",
   "pygments_lexer": "ipython3",
   "version": "3.9.12"
  }
 },
 "nbformat": 4,
 "nbformat_minor": 5
}
