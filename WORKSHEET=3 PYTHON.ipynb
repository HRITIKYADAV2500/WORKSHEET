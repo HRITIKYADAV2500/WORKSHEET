{
 "cells": [
  {
   "cell_type": "markdown",
   "id": "e7f1c11c",
   "metadata": {},
   "source": [
    "# 11. Write a python function print pyramid of stars. Level of the pyramid should be taken as an input from the user."
   ]
  },
  {
   "cell_type": "code",
   "execution_count": 9,
   "id": "6a2d3b09",
   "metadata": {},
   "outputs": [
    {
     "name": "stdout",
     "output_type": "stream",
     "text": [
      "    *\n",
      "   ***\n",
      "  *****\n",
      " *******\n",
      "*********\n"
     ]
    }
   ],
   "source": [
    "def print_pyramid(levels):\n",
    "    for i in range(levels):\n",
    "        print(' ' * (levels - i - 1) + '*' * (2 * i + 1))\n",
    "\n",
    "# Example usage:\n",
    "print_pyramid(5)\n"
   ]
  },
  {
   "cell_type": "markdown",
   "id": "d6ca6030",
   "metadata": {},
   "source": [
    "# 12. Write a python function print Hourglass pattern."
   ]
  },
  {
   "cell_type": "code",
   "execution_count": 11,
   "id": "7347c80f",
   "metadata": {},
   "outputs": [
    {
     "name": "stdout",
     "output_type": "stream",
     "text": [
      "*********\n",
      " *******\n",
      "  *****\n",
      "   ***\n",
      "    *\n",
      "   ***\n",
      "  *****\n",
      " *******\n",
      "*********\n"
     ]
    }
   ],
   "source": [
    "def print_hourglass(n):\n",
    "    # upper half\n",
    "    for i in range(n):\n",
    "        for j in range(i):\n",
    "            print(\" \", end=\"\")\n",
    "        for j in range(2 * (n - i) - 1):\n",
    "            print(\"*\", end=\"\")\n",
    "        print()\n",
    "    # lower half\n",
    "    for i in range(n - 2, -1, -1):\n",
    "        for j in range(i):\n",
    "            print(\" \", end=\"\")\n",
    "        for j in range(2 * (n - i) - 1):\n",
    "            print(\"*\", end=\"\")\n",
    "        print()\n",
    "\n",
    "# example usage\n",
    "print_hourglass(5)\n"
   ]
  },
  {
   "cell_type": "markdown",
   "id": "7493d567",
   "metadata": {},
   "source": [
    "# 13. Write a python function to print Pascal’s Triangle. The number of levels in the triangle must be taken as input by the user."
   ]
  },
  {
   "cell_type": "code",
   "execution_count": 12,
   "id": "383d2c1e",
   "metadata": {},
   "outputs": [],
   "source": [
    "def pascals_triangle(levels):\n",
    "    # Initialize the triangle with the first row\n",
    "    triangle = [[1]]\n",
    "    # Loop through each row up to the desired number of levels\n",
    "    for i in range(1, levels):\n",
    "        # Initialize the row with the first and last elements set to 1\n",
    "        row = [1]\n",
    "        # Loop through the previous row and add adjacent elements to create the new row\n",
    "        for j in range(1, i):\n",
    "            row.append(triangle[i-1][j-1] + triangle[i-1][j])\n",
    "        row.append(1)\n",
    "        # Add the new row to the triangle\n",
    "        triangle.append(row)\n",
    "    # Print the triangle\n",
    "    for row in triangle:\n",
    "        print(' '.join([str(elem) for elem in row]).center(levels*2))\n"
   ]
  },
  {
   "cell_type": "code",
   "execution_count": 13,
   "id": "c9ed54bb",
   "metadata": {},
   "outputs": [
    {
     "name": "stdout",
     "output_type": "stream",
     "text": [
      "    1     \n",
      "   1 1    \n",
      "  1 2 1   \n",
      " 1 3 3 1  \n",
      "1 4 6 4 1 \n"
     ]
    }
   ],
   "source": [
    "pascals_triangle(5)\n"
   ]
  },
  {
   "cell_type": "markdown",
   "id": "63b6ba79",
   "metadata": {},
   "source": [
    "# 14. Write a python function to print Diamond Shaped Pattern shown below. Function must take integer input which represents the number of stars in the middle most line."
   ]
  },
  {
   "cell_type": "code",
   "execution_count": 14,
   "id": "85bc6766",
   "metadata": {},
   "outputs": [],
   "source": [
    "def print_diamond(n):\n",
    "    # print upper half of the diamond\n",
    "    for i in range(1, n+1):\n",
    "        print(\" \"*(n-i) + \"* \" * i)\n",
    "    # print lower half of the diamond\n",
    "    for i in range(n-1, 0, -1):\n",
    "        print(\" \"*(n-i) + \"* \" * i)\n"
   ]
  },
  {
   "cell_type": "code",
   "execution_count": 15,
   "id": "18f26946",
   "metadata": {},
   "outputs": [
    {
     "name": "stdout",
     "output_type": "stream",
     "text": [
      "    * \n",
      "   * * \n",
      "  * * * \n",
      " * * * * \n",
      "* * * * * \n",
      " * * * * \n",
      "  * * * \n",
      "   * * \n",
      "    * \n"
     ]
    }
   ],
   "source": [
    "print_diamond(5)"
   ]
  },
  {
   "cell_type": "markdown",
   "id": "e53316b0",
   "metadata": {},
   "source": [
    "# 15. Write a python function to print Diamond Shaped Character Pattern shown below. Function must take integer input within range 1 to 26, which represents the rank of the alphabet."
   ]
  },
  {
   "cell_type": "code",
   "execution_count": 16,
   "id": "547907a6",
   "metadata": {},
   "outputs": [],
   "source": [
    "def diamond_char_pattern(n):\n",
    "    if n < 1 or n > 26:\n",
    "        print(\"Invalid input! Enter a number between 1 and 26.\")\n",
    "        return\n",
    "    \n",
    "    # Upper half of diamond\n",
    "    for i in range(n):\n",
    "        # Print spaces before characters\n",
    "        print(\" \" * (n-i-1), end=\"\")\n",
    "        # Print characters in ascending order\n",
    "        for j in range(i+1):\n",
    "            print(chr(65+j), end=\"\")\n",
    "            if j < i:\n",
    "                print(\" \", end=\"\")\n",
    "        # Print spaces after characters\n",
    "        print(\" \" * (n-i-1))\n",
    "    \n",
    "    # Lower half of diamond\n",
    "    for i in range(n-2, -1, -1):\n",
    "        # Print spaces before characters\n",
    "        print(\" \" * (n-i-1), end=\"\")\n",
    "        # Print characters in ascending order\n",
    "        for j in range(i+1):\n",
    "            print(chr(65+j), end=\"\")\n",
    "            if j < i:\n",
    "                print(\" \", end=\"\")\n",
    "        # Print spaces after characters\n",
    "        print(\" \" * (n-i-1))\n"
   ]
  },
  {
   "cell_type": "code",
   "execution_count": 17,
   "id": "be1f4f50",
   "metadata": {},
   "outputs": [
    {
     "name": "stdout",
     "output_type": "stream",
     "text": [
      "    A    \n",
      "   A B   \n",
      "  A B C  \n",
      " A B C D \n",
      "A B C D E\n",
      " A B C D \n",
      "  A B C  \n",
      "   A B   \n",
      "    A    \n"
     ]
    }
   ],
   "source": [
    "diamond_char_pattern(5)\n"
   ]
  },
  {
   "cell_type": "code",
   "execution_count": null,
   "id": "c6cab4cc",
   "metadata": {},
   "outputs": [],
   "source": []
  }
 ],
 "metadata": {
  "kernelspec": {
   "display_name": "Python 3 (ipykernel)",
   "language": "python",
   "name": "python3"
  },
  "language_info": {
   "codemirror_mode": {
    "name": "ipython",
    "version": 3
   },
   "file_extension": ".py",
   "mimetype": "text/x-python",
   "name": "python",
   "nbconvert_exporter": "python",
   "pygments_lexer": "ipython3",
   "version": "3.9.12"
  }
 },
 "nbformat": 4,
 "nbformat_minor": 5
}
